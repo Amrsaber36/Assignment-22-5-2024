{
  "nbformat": 4,
  "nbformat_minor": 0,
  "metadata": {
    "colab": {
      "provenance": []
    },
    "kernelspec": {
      "name": "python3",
      "display_name": "Python 3"
    },
    "language_info": {
      "name": "python"
    }
  },
  "cells": [
    {
      "cell_type": "markdown",
      "source": [
        "Assignment 1"
      ],
      "metadata": {
        "id": "h4ARHaxj6zBl"
      }
    },
    {
      "cell_type": "markdown",
      "source": [
        "# To Calculate Gravitational force between Earth and Moon Please Input This inputs :"
      ],
      "metadata": {
        "id": "ugPX3qzC74fU"
      }
    },
    {
      "cell_type": "code",
      "source": [
        "G=float(input(\"Enter the Gravitational Constant : \" ))*(10**-11)\n",
        "M_Earth=float(input(\"Enter the mass of The Earth : \" ))*(10**24)\n",
        "M_moon= float(input(\"Enter the mass of the Moon : \" ))*(10**22)\n",
        "r=float(input(\"Enter the distance between the Earth and the Moon : \" ))*(10**8)\n",
        "F=float((G*M_Earth*M_moon)/r**2)\n",
        "print(\"Gravitational force between Earth and Moon is = \", F)\n",
        "if F==1.9920979817708333e+20 : print (\"FG = 1.99 * 10^20\")"
      ],
      "metadata": {
        "colab": {
          "base_uri": "https://localhost:8080/"
        },
        "id": "Rw9YmpwB8Vax",
        "outputId": "c8260d7e-5ddb-4fca-d7f2-0ffd9cbbf0f9"
      },
      "execution_count": 10,
      "outputs": [
        {
          "output_type": "stream",
          "name": "stdout",
          "text": [
            "Enter the Gravitational Constant : 6.67\n",
            "Enter the mass of The Earth : 6.0\n",
            "Enter the mass of the Moon : 7.34\n",
            "Enter the distance between the Earth and the Moon : 3.84\n",
            "Gravitational force between Earth and Moon is =  1.9920979817708333e+20\n",
            "FG = 1.99 * 10^20\n"
          ]
        }
      ]
    },
    {
      "cell_type": "markdown",
      "source": [
        "Assignment 2\n"
      ],
      "metadata": {
        "id": "LnvM9aNhEk6L"
      }
    },
    {
      "cell_type": "markdown",
      "source": [
        "# write a program that prints the integers from 1 to 100 , but for multiples of three print \"Fizz\" instead of the number , and for the multiples of five print \" Buzz\" , for numbers which are multiples of both three and five print \" FizzBuzz\"."
      ],
      "metadata": {
        "id": "xU-EbdvDIxIl"
      }
    },
    {
      "cell_type": "code",
      "source": [
        "for x in range(1,100,1):\n",
        "    if x % 3 == 0:\n",
        "        print(\"Fizz\")\n",
        "    elif x % 5 == 0:\n",
        "        print(\"Buzz\")\n",
        "    elif x % 3 == 0 and i % 5 == 0 :\n",
        "        print(\"FizzBuzz\")\n",
        "    else:\n",
        "        print(x)\n"
      ],
      "metadata": {
        "colab": {
          "base_uri": "https://localhost:8080/"
        },
        "id": "bFj0JqbXHTey",
        "outputId": "7da61113-2ca5-4919-e0ea-bc9be76a8f29"
      },
      "execution_count": 12,
      "outputs": [
        {
          "output_type": "stream",
          "name": "stdout",
          "text": [
            "1\n",
            "2\n",
            "Fizz\n",
            "4\n",
            "Buzz\n",
            "Fizz\n",
            "7\n",
            "8\n",
            "Fizz\n",
            "Buzz\n",
            "11\n",
            "Fizz\n",
            "13\n",
            "14\n",
            "Fizz\n",
            "16\n",
            "17\n",
            "Fizz\n",
            "19\n",
            "Buzz\n",
            "Fizz\n",
            "22\n",
            "23\n",
            "Fizz\n",
            "Buzz\n",
            "26\n",
            "Fizz\n",
            "28\n",
            "29\n",
            "Fizz\n",
            "31\n",
            "32\n",
            "Fizz\n",
            "34\n",
            "Buzz\n",
            "Fizz\n",
            "37\n",
            "38\n",
            "Fizz\n",
            "Buzz\n",
            "41\n",
            "Fizz\n",
            "43\n",
            "44\n",
            "Fizz\n",
            "46\n",
            "47\n",
            "Fizz\n",
            "49\n",
            "Buzz\n",
            "Fizz\n",
            "52\n",
            "53\n",
            "Fizz\n",
            "Buzz\n",
            "56\n",
            "Fizz\n",
            "58\n",
            "59\n",
            "Fizz\n",
            "61\n",
            "62\n",
            "Fizz\n",
            "64\n",
            "Buzz\n",
            "Fizz\n",
            "67\n",
            "68\n",
            "Fizz\n",
            "Buzz\n",
            "71\n",
            "Fizz\n",
            "73\n",
            "74\n",
            "Fizz\n",
            "76\n",
            "77\n",
            "Fizz\n",
            "79\n",
            "Buzz\n",
            "Fizz\n",
            "82\n",
            "83\n",
            "Fizz\n",
            "Buzz\n",
            "86\n",
            "Fizz\n",
            "88\n",
            "89\n",
            "Fizz\n",
            "91\n",
            "92\n",
            "Fizz\n",
            "94\n",
            "Buzz\n",
            "Fizz\n",
            "97\n",
            "98\n",
            "Fizz\n"
          ]
        }
      ]
    }
  ]
}